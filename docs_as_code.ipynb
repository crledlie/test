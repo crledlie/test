# Docs as Code: Jupyter and Colab
## Overview
[Docs as code](https://www.writethedocs.org/guide/docs-as-code/) describes the philosophy of writing documentation with the same tools and workflows as code:
* Issue trackers
* Version control
* Markdown
* Code reviews
* Automated tests

[Google](https://www.youtube.com/watch?v=EnB8GtPuauw) and [Netflix](https://netflixtechblog.com/notebook-innovation-591ee3221233) are both well known to follow this philosophy.

We can use Docs as code through several different tools:
* Git
* docToolchain
* Jupyter Notebooks
 * Google Colab Notebooks
* And so on...
This page will cover Jupyter and Cloab notebooks.

# Jupyter Notebooks
Jupyter notebooks are open-source web applications that let users create and share documents with live code, equations, visualizations, and narrative text. 

Use cases typically include:
* Data cleaning and transformation
* Numerical simulation
* Statistical modeling
* Data visualization
* Machine learning

Users can host Jupyter notebooks privately and securely through GitHub and Docker. For more information on security, go to the [Jupyter Notebook documentation](https://jupyter-notebook.readthedocs.io/en/stable/security.html).  

While Jupyter notebooks primarily use Python, they can also support R, Julia, Ruby, Javascript, PHP, and Haskell. You can also display Jupyter notebooks on [Confluence](https://marketplace.atlassian.com/apps/1214144/jupyter-viewer-for-confluence?hosting=server&tab=overview) using a third-party macro. Go to the [macro documentation](https://mibexsoftware.atlassian.net/wiki/spaces/IPYTHON4CC/pages/2642804737/Notebook+examples) for an example.

## Live Code
Users can try out code samples within the document itself. In a live Jupyter notebook, users can click **Run** in the upper navigation bar to try out code in real time. 

### Sample Function Code
def print_two(*args):
    arg1, arg2 = args
    print(f"Crunchyroll\'s mascots are {arg1} and {arg2}.")
    
def print_one(arg1):
    print(f"We're working at {arg1}.")

print_one("Crunchyroll")
print_two("Hime","Yuzu")
### Sample Input Code
name = input("What's your name? ")
anime = input("What's your favorite anime? ")
character = input("Who's your favorite anime character? ")

print(f"Hi {name}! So your favorite anime is {anime} and your favorite character is {character}? Cool, I love them too! Mine are Tropical-Rouge! Pretty Cure and Cure La Mer!")
### Sample Diagram
#Install matplotlib module into the Jupyter notebook enviornment
!pip install matplotlib

#Import the matplotlib module
from matplotlib import pyplot as plt 
  
# X-axis values 
x = [5, 2, 9, 4, 7] 
  
# Y-axis values 
y = [10, 5, 8, 4, 2] 
  
# Plot the diagram
plt.plot(x, y) 
  
# Display the plot diagram
plt.show()
# Use Cases
## Netflix

Netflix primarily uses Jupyter Notebooks to analyze and visualize data during the following stages of a project:
* Data exploration and validation
 * Viewing sample data and general analysis
* Data preparation
 * Standardizing, aggregating and transforming data
* Productionalization
 * Deploys code to production and scheduling workflows

Netflix uses Jupyter Notebooks for the following use cases:
* Data Access
 * Primarily for the Netflix Data Platform for iteratively running code, exploring output and visualizing data
 * Also maintains a Python library that consolidates access to platform APIs
* Notebook Templates
 * Parameterized Notebook: A notebook that allows the user to specify parameters in the code and accept input values at runtime
 * Data Scientist: Run an experiment with different coefficients and summarize the results
 * Data Engineer: Execute collections of data quality audits as part of the deployment process
 * Data Analyst: Share prepared queries and visualizations for deep exploration
 * Software Engineer: Email results of a troubleshooting script each time there's a failure
* Scheduling Notebooks
 * Uses arbitrary kernels for supporting any defined execution environments
 * Can construct entire workflows in a notebook and then copy and paste it into separate files for scheduling when ready to deploy

For an example of using a Jupyter Notebook for dynamic data visualization, go to the [Data Explorer](https://hub.gke2.mybinder.org/user/nteract-examples-f8shraxi/nteract/edit/python/happiness.ipynb) page.

## Google

One way that Google uses Jupyter notebooks is by using them for tutorials for their open source projects, such as TensorFlow.

### TensorFlow

TensorFlow is Google Research's open source platform for machine learning. Google hosts all of TensorFlow's tutorials on Google Colab. Google Colab is Google Research's hosted Jupyter notebook service. Essentially, it allows users to host and run python notebooks through Google Cloud instead of running in the user's local machine with their system's ram storage.

For an example tutorial, go to the [TensorFLow 2 quickstart guide](https://colab.research.google.com/github/tensorflow/docs/blob/master/site/en/tutorials/quickstart/beginner.ipynb#scrollTo=7FP5258xjs-v).
# More Information
* [File for this notebook](https://github.com/crledlie/test/blob/main/docs_as_code.ipynb)
* [Jupyter Installation Instructions](https://jupyter.readthedocs.io/en/latest/install.html#install)
* [Jupyter Qt Console](https://qtconsole.readthedocs.io/en/stable/)
* [Jupyter Notebook Viewer](https://github.com/jupyter/nbviewer)
* [Netflix Article](https://netflixtechblog.com/notebook-innovation-591ee3221233) 
* [Scheduled Notebooks](https://conferences.oreilly.com/jupyter/jup-ny/public/schedule/detail/68348)
* [Titus](https://medium.com/netflix-techblog/titus-the-netflix-container-management-platform-is-now-open-source-f868c9fb5436)
* [Google Blog](https://cloud.google.com/blog/products/ai-machine-learning/best-practices-that-can-improve-the-life-of-any-developer-using-jupyter-notebooks)
* [Tensor Flow](https://colab.research.google.com/github/tensorflow/hub/blob/master/examples/colab/tf2_arbitrary_image_stylization.ipynb)
* [Google Colaboratory](https://colab.research.google.com/?utm_source=scs-index)
* [nteract](https://blog.nteract.io/designing-the-nteract-data-explorer-f4476d53f897) 
* [Sample nteract page](https://hub.gke2.mybinder.org/user/nteract-examples-f8shraxi/nteract/edit/python/happiness.ipynb)
* [Sample data page](https://nbviewer.jupyter.org/gist/fonnesbeck/2352771)
