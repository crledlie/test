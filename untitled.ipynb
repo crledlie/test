@@ -0,0 +1,126 @@
{
 "cells": [
  {
   "cell_type": "code",
   "execution_count": null,
   "metadata": {},
   "outputs": [
    {
     "name": "stdout",
     "output_type": "stream",
     "text": [
      "Hello World!\n"
     ]
    }
   ],
   "source": [
    "print(\"Hello World!\")"
   ]
  },
  {
   "cell_type": "code",
   "execution_count": null,
   "metadata": {},
   "outputs": [
    {
     "name": "stdin",
     "output_type": "stream",
     "text": [
      "How old are you?  2w3423\n",
      "How tall are you?  r234324\n",
      "How much do you weigh?  45345435\n"
     ]
    },
    {
     "name": "stdout",
     "output_type": "stream",
     "text": [
      "So, you're 2w3423 old, r234324 tall and 45345435 heavy.\n",
      "So, you're 2w3423 old, r234324 tall and 45345435 heavy."
     ]
    }
   ],
   "source": [
    "age = input(\"How old are you? \")\n",
    "height = input(\"How tall are you? \")\n",
    "weight = input(\"How much do you weigh? \")\n",
    "\n",
    "print(f\"So, you're {age} old, {height} tall and {weight} heavy.\")"
   ]
  },
  {
   "cell_type": "code",
   "execution_count": null,
   "metadata": {},
   "outputs": [],
   "source": [
    "print(\"How old are you?\", end=' ')\n",
    "age = input()\n",
    "print(\"How tall are you?\", end=' ')\n",
    "height = input()\n",
    "print(\"How much do you weight?\", end=' ')\n",
    "weight = input()\n",
    "\n",
    "print(f\"So you're {age} old, {height} tall and {weight} heavy.\")"
   ]
  },
  {
   "cell_type": "code",
   "execution_count": null,
   "metadata": {},
   "outputs": [],
   "source": [
    "# variable defining the number of types of people as 10\n",
    "types_of_people = 10\n",
    "# f-string that formats the string so that you can add in the above variable into the string and export it.\n",
    "x = f\"There are {types_of_people} types of people.\"\n",
    "# defines binary as the string \"binary\"\n",
    "binary = \"binary\"\n",
    "# same as above\n",
    "do_not = \"don't\"\n",
    "# defines a variable as an f string that also has the variables binary and do_not inside of it. 1\n",
    "y = f\"Those who know {binary} and those who {do_not}.\"\n",
    "# exports the x and y variables\n",
    "print(x)\n",
    "print(y)\n",
    "# exports the f-strings with the x and y variables, which are also f-strings. 2, 3\n",
    "print(f\"I said: {x}\") \n",
    "print(f\"I also said: '{y}'\") \n",
    "# boolean that defines the variable hilarious as False.\n",
    "hilarious = False\n",
    "# variable that defines the joke evaluation with an empty, fill-in the blank, variable?\n",
    "joke_evaluation = \"Isn't that joke so funny?! {}\"\n",
    "# exports the joke evaluation variable and formats the empty, fill-in the blank variable with the boolean \"hilarious\".\n",
    "print(joke_evaluation.format(hilarious))\n",
    "# variables that define w and e as strings of text.\n",
    "w = \"This is the left side of...\"\n",
    "e = \"a string with a right side.\"\n",
    "# exports the above variables in one line of text. 4 and 5\n",
    "print(w + e)\n",
    "# adding w and e makes a longer string because you are exporting them in order from left to right."
   ]
  },
  {
   "cell_type": "code",
   "execution_count": null,
   "metadata": {},
   "outputs": [],
   "source": []
  }
 ],
 "metadata": {
  "kernelspec": {
   "display_name": "Python 3.7 (XPython)",
   "language": "python",
   "name": "xpython"
  },
  "language_info": {
   "file_extension": ".py",
   "mimetype": "text/x-python",
   "name": "python",
   "version": "3.7.9"
  }
 },
 "nbformat": 4,
 "nbformat_minor": 4
}
